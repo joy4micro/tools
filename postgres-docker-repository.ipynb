{
 "cells": [
  {
   "cell_type": "markdown",
   "metadata": {},
   "source": [
    "```\n",
    "!conda install psycopg2\n",
    "```\n",
    "\n",
    "##### And make sure the below table and records are present in the db\n",
    "\n",
    "```\n",
    "drop table server;\n",
    "```\n",
    "```\n",
    "create table server(id INTEGER, ipaddress varchar(20));\n",
    "```\n",
    "\n",
    "```\n",
    "insert into server values(1, '127.0.0.1'); \n",
    "insert into server values(2, '127.0.0.2');\n",
    "```"
   ]
  },
  {
   "cell_type": "code",
   "execution_count": 22,
   "metadata": {},
   "outputs": [],
   "source": [
    "import psycopg2 as pg"
   ]
  },
  {
   "cell_type": "code",
   "execution_count": 29,
   "metadata": {},
   "outputs": [],
   "source": [
    "try:\n",
    "    conn = pg.connect(host=\"localhost\",database=\"testdb\",user=\"postgres\", password=\"12345\")\n",
    "    conn.close()\n",
    "except Exception as e:\n",
    "    print(str(e))"
   ]
  },
  {
   "cell_type": "code",
   "execution_count": 30,
   "metadata": {},
   "outputs": [
    {
     "data": {
      "text/plain": [
       "1"
      ]
     },
     "execution_count": 30,
     "metadata": {},
     "output_type": "execute_result"
    }
   ],
   "source": [
    "conn.status"
   ]
  },
  {
   "cell_type": "markdown",
   "metadata": {},
   "source": [
    "#### show all the records in a table"
   ]
  },
  {
   "cell_type": "code",
   "execution_count": 46,
   "metadata": {},
   "outputs": [
    {
     "name": "stdout",
     "output_type": "stream",
     "text": [
      "(1, '127.0.0.1')\n",
      "(2, '127.0.0.2')\n"
     ]
    }
   ],
   "source": [
    "try:\n",
    "    conn = pg.connect(host=\"localhost\",database=\"testdb\",user=\"postgres\", password=\"12345\")\n",
    "    # create a cursor to execute queries\n",
    "    cursor_ = conn.cursor()\n",
    "    cursor_.execute(\"select * from server\")\n",
    "    for value in cursor_.fetchall():\n",
    "        print(value)\n",
    "except Exception as e:\n",
    "    print(str(e))"
   ]
  },
  {
   "cell_type": "code",
   "execution_count": 47,
   "metadata": {},
   "outputs": [
    {
     "name": "stdout",
     "output_type": "stream",
     "text": [
      "database \"sunny\" already exists\n",
      "\n"
     ]
    }
   ],
   "source": [
    "from psycopg2.extensions import ISOLATION_LEVEL_AUTOCOMMIT\n",
    "try:\n",
    "    conn = pg.connect(host=\"localhost\",database=\"testdb\",user=\"postgres\", password=\"12345\")\n",
    "    conn.set_isolation_level(ISOLATION_LEVEL_AUTOCOMMIT)\n",
    "    # create a cursor to execute queries\n",
    "    cursor_ = conn.cursor()\n",
    "    cursor_.execute(\"create database sunny;\")\n",
    "except Exception as e:\n",
    "    print(str(e))"
   ]
  },
  {
   "cell_type": "code",
   "execution_count": null,
   "metadata": {},
   "outputs": [],
   "source": []
  }
 ],
 "metadata": {
  "kernelspec": {
   "display_name": "Python 3",
   "language": "python",
   "name": "python3"
  },
  "language_info": {
   "codemirror_mode": {
    "name": "ipython",
    "version": 3
   },
   "file_extension": ".py",
   "mimetype": "text/x-python",
   "name": "python",
   "nbconvert_exporter": "python",
   "pygments_lexer": "ipython3",
   "version": "3.8.5"
  }
 },
 "nbformat": 4,
 "nbformat_minor": 4
}
